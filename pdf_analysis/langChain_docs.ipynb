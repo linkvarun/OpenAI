{
 "cells": [
  {
   "cell_type": "code",
   "execution_count": 1,
   "id": "dd08ea49",
   "metadata": {},
   "outputs": [],
   "source": [
    "import pandas as pd\n",
    "\n",
    "# from langchain.document_loaders import TextLoader\n",
    "# loader = TextLoader('statistics.pdf')\n",
    "\n",
    "# loader1 = TextLoader('sample_pdf.pdf')"
   ]
  },
  {
   "cell_type": "code",
   "execution_count": 12,
   "id": "44932ef5",
   "metadata": {},
   "outputs": [],
   "source": [
    "# !pip install pypdf"
   ]
  },
  {
   "cell_type": "code",
   "execution_count": 10,
   "id": "51f6e09d",
   "metadata": {},
   "outputs": [],
   "source": [
    "# !pip install faiss-cpu"
   ]
  },
  {
   "cell_type": "code",
   "execution_count": 9,
   "id": "14c558e8",
   "metadata": {},
   "outputs": [],
   "source": [
    "# !pip install chromadb --user"
   ]
  },
  {
   "cell_type": "code",
   "execution_count": 2,
   "id": "7b019ec3",
   "metadata": {},
   "outputs": [],
   "source": [
    "from langchain.document_loaders import PyPDFLoader\n",
    "\n",
    "loader = PyPDFLoader(\"statistics.pdf\")\n",
    "pages = loader.load_and_split()"
   ]
  },
  {
   "cell_type": "code",
   "execution_count": 4,
   "id": "fc2c51fb",
   "metadata": {},
   "outputs": [
    {
     "data": {
      "text/plain": [
       "Document(page_content='To Ella and Nathaniel. Because you rock.', metadata={'source': 'statistics.pdf', 'page': 3})"
      ]
     },
     "execution_count": 4,
     "metadata": {},
     "output_type": "execute_result"
    }
   ],
   "source": [
    "pages[2]"
   ]
  },
  {
   "cell_type": "code",
   "execution_count": 27,
   "id": "564e7fb8",
   "metadata": {},
   "outputs": [],
   "source": [
    "import os\n",
    "from dotenv import load_dotenv\n",
    "\n",
    "# Load environment variables from .env file\n",
    "load_dotenv()"
   ]
  },
  {
   "cell_type": "code",
   "execution_count": 6,
   "id": "2994dc5a",
   "metadata": {},
   "outputs": [],
   "source": [
    "from langchain.indexes import VectorstoreIndexCreator\n",
    "index = VectorstoreIndexCreator().from_loaders([loader])"
   ]
  },
  {
   "cell_type": "code",
   "execution_count": 8,
   "id": "40b4e09c",
   "metadata": {},
   "outputs": [
    {
     "data": {
      "text/plain": [
       "' 60.20%'"
      ]
     },
     "execution_count": 8,
     "metadata": {},
     "output_type": "execute_result"
    }
   ],
   "source": [
    "# query = \"How much is biotech industry has outperformed the S&P by\"\n",
    "# index.query(query)"
   ]
  },
  {
   "cell_type": "code",
   "execution_count": 13,
   "id": "3da238dc",
   "metadata": {},
   "outputs": [
    {
     "data": {
      "text/plain": [
       "' Merck & Co. allocated over $6.0 billion towards legal fees.'"
      ]
     },
     "execution_count": 13,
     "metadata": {},
     "output_type": "execute_result"
    }
   ],
   "source": [
    "# query = \"How much Merck & Co. allocated towards legal fee?\"\n",
    "# index.query(query)"
   ]
  },
  {
   "cell_type": "code",
   "execution_count": 14,
   "id": "1937b781",
   "metadata": {},
   "outputs": [
    {
     "data": {
      "text/plain": [
       "' The primary drivers of health care services are government regulation, unemployment, supply and demand, and the Affordable Care Act.'"
      ]
     },
     "execution_count": 14,
     "metadata": {},
     "output_type": "execute_result"
    }
   ],
   "source": [
    "# query = \"What are the primary drivers of health care services?\"\n",
    "# index.query(query)"
   ]
  },
  {
   "cell_type": "code",
   "execution_count": 16,
   "id": "8906acff",
   "metadata": {},
   "outputs": [
    {
     "data": {
      "text/plain": [
       "' 485%'"
      ]
     },
     "execution_count": 16,
     "metadata": {},
     "output_type": "execute_result"
    }
   ],
   "source": [
    "# query = \"How much did AmerisourceBergen's stock price rose by?\"\n",
    "# index.query(query)"
   ]
  },
  {
   "cell_type": "code",
   "execution_count": 17,
   "id": "9a04ebb2",
   "metadata": {},
   "outputs": [
    {
     "data": {
      "text/plain": [
       "' The healthcare industry faces challenges such as reliance on third-party payers to generate sales, increased sensitivity due to harsh regulatory oversight by the U.S. Food and Drug Administration and Government resulting from the Affordable Care Act, pressure of revenue growth, and increased volatility due to the sensitivity of their business cycles.'"
      ]
     },
     "execution_count": 17,
     "metadata": {},
     "output_type": "execute_result"
    }
   ],
   "source": [
    "# query = \"What are the challenges faced by healthcare industry?\"\n",
    "# index.query(query)"
   ]
  },
  {
   "cell_type": "code",
   "execution_count": 7,
   "id": "af0dff59",
   "metadata": {},
   "outputs": [
    {
     "data": {
      "text/plain": [
       "' Figure 1.3 and Figure 1.4 both show the distribution of Democrats, Independents and Republicans. Figure 1.3 is a column graph and Figure 1.4 is a pie chart.'"
      ]
     },
     "execution_count": 7,
     "metadata": {},
     "output_type": "execute_result"
    }
   ],
   "source": [
    "query = \"Show the distribution of Democrats, Independents and Republicans\"\n",
    "index.query(query)"
   ]
  },
  {
   "cell_type": "code",
   "execution_count": 8,
   "id": "4f9779f8",
   "metadata": {},
   "outputs": [
    {
     "data": {
      "text/plain": [
       "' The distribution of Democrats, Independents and Republicans is 45% Republicans, 15% Independents and 40% Democrats.'"
      ]
     },
     "execution_count": 8,
     "metadata": {},
     "output_type": "execute_result"
    }
   ],
   "source": [
    "query = \"What is the distribution of Democrats, Independents and Republicans\"\n",
    "index.query(query)"
   ]
  },
  {
   "cell_type": "code",
   "execution_count": 9,
   "id": "deb56103",
   "metadata": {},
   "outputs": [
    {
     "data": {
      "text/plain": [
       "' To calculate the mode, there is no need to calculate anything. The mode is simply the category in the distribution that has the highest number of scores, or the highest frequency.'"
      ]
     },
     "execution_count": 9,
     "metadata": {},
     "output_type": "execute_result"
    }
   ],
   "source": [
    "query = \"How do you calculate Mode?\"\n",
    "index.query(query)"
   ]
  },
  {
   "cell_type": "code",
   "execution_count": 10,
   "id": "b25bbb3f",
   "metadata": {},
   "outputs": [
    {
     "data": {
      "text/plain": [
       "' Standard deviation is a measure of how spread out the values in a distribution are. For example, if we have a distribution of 8-point scores with a mean of 7.28 and a standard deviation of 1.33, we can see that most of the scores are clustered around the mean, with only a few scores falling more than 1.33 standard deviations away from the mean.'"
      ]
     },
     "execution_count": 10,
     "metadata": {},
     "output_type": "execute_result"
    }
   ],
   "source": [
    "query = \"Explain Standard Deviation with an example?\"\n",
    "index.query(query)\n",
    "# this one is really impressive as the lanuage of example is not picked directly from the document but rather generated "
   ]
  },
  {
   "cell_type": "code",
   "execution_count": 12,
   "id": "51700251",
   "metadata": {},
   "outputs": [
    {
     "data": {
      "text/plain": [
       "' The measures of central tendency are the mean, median, and mode. The mean is the arithmetic average of a distribution of scores, the median is the middle score in a distribution of scores, and the mode is the most common score in a distribution of scores.'"
      ]
     },
     "execution_count": 12,
     "metadata": {},
     "output_type": "execute_result"
    }
   ],
   "source": [
    "query = \"What are the different measures of central tendency and define them?\"\n",
    "index.query(query)"
   ]
  },
  {
   "cell_type": "code",
   "execution_count": 13,
   "id": "9ecd8d0e",
   "metadata": {},
   "outputs": [
    {
     "data": {
      "text/plain": [
       "' Japan has a life expectancy of 84 years and Uganda has a life expectancy of 59 years.'"
      ]
     },
     "execution_count": 13,
     "metadata": {},
     "output_type": "execute_result"
    }
   ],
   "source": [
    "query = \"What is the life expectancy of Japan and Uganda?\"\n",
    "index.query(query)\n",
    "# this too is impressive as the model is able to read the chart and extract the data from there"
   ]
  },
  {
   "cell_type": "code",
   "execution_count": 14,
   "id": "1cfd00f7",
   "metadata": {},
   "outputs": [
    {
     "data": {
      "text/plain": [
       "' The larger the Z score, the smaller the P value.'"
      ]
     },
     "execution_count": 14,
     "metadata": {},
     "output_type": "execute_result"
    }
   ],
   "source": [
    "query = \"What is the relation between Z score and P value?\"\n",
    "index.query(query)"
   ]
  },
  {
   "cell_type": "code",
   "execution_count": 16,
   "id": "49eec259",
   "metadata": {},
   "outputs": [
    {
     "data": {
      "text/plain": [
       "' Z = 0.50'"
      ]
     },
     "execution_count": 16,
     "metadata": {},
     "output_type": "execute_result"
    }
   ],
   "source": [
    "query = \"Calculate Z score if the mean is 517 and the Standard deviation is 100 with X being 567\"\n",
    "index.query(query) #correct value"
   ]
  },
  {
   "attachments": {
    "image.png": {
     "image/png": "[encoded data removed]"
    }
   },
   "cell_type": "markdown",
   "id": "04e5e6d3",
   "metadata": {},
   "source": [
    "![image.png](attachment:image.png)"
   ]
  },
  {
   "cell_type": "code",
   "execution_count": 18,
   "id": "33893b97",
   "metadata": {},
   "outputs": [
    {
     "data": {
      "text/plain": [
       "' Z = 1.00'"
      ]
     },
     "execution_count": 18,
     "metadata": {},
     "output_type": "execute_result"
    }
   ],
   "source": [
    "query = \"Calculate Z score if the mean is 517 and the Standard deviation is 100 with X being 617\"\n",
    "index.query(query) #correct value"
   ]
  },
  {
   "cell_type": "code",
   "execution_count": 19,
   "id": "c6d6284e",
   "metadata": {},
   "outputs": [
    {
     "data": {
      "text/plain": [
       "' Z = 1.20'"
      ]
     },
     "execution_count": 19,
     "metadata": {},
     "output_type": "execute_result"
    }
   ],
   "source": [
    "query = \"Calculate Z score if the mean is 517 and the Standard deviation is 100 with X being 717\"\n",
    "index.query(query) # Incorrect value as this calculation is not present in the document"
   ]
  },
  {
   "cell_type": "code",
   "execution_count": 20,
   "id": "7166e4e8",
   "metadata": {},
   "outputs": [
    {
     "data": {
      "text/plain": [
       "' The area under the curve with a z score of 1 is 0.3413.'"
      ]
     },
     "execution_count": 20,
     "metadata": {},
     "output_type": "execute_result"
    }
   ],
   "source": [
    "query = \"With Z=1, what is the area under the curve?\"\n",
    "index.query(query) #correct value"
   ]
  },
  {
   "cell_type": "code",
   "execution_count": 22,
   "id": "f43d0085",
   "metadata": {},
   "outputs": [
    {
     "data": {
      "text/plain": [
       "' 19.15%'"
      ]
     },
     "execution_count": 22,
     "metadata": {},
     "output_type": "execute_result"
    }
   ],
   "source": [
    "query = \"With Z=0.5, what is the area under the curve?\"\n",
    "index.query(query) #correct value"
   ]
  },
  {
   "cell_type": "code",
   "execution_count": 25,
   "id": "2a01e339",
   "metadata": {},
   "outputs": [
    {
     "data": {
      "text/plain": [
       "' Generally, correlation coefficients stay between –.70 and +.70.'"
      ]
     },
     "execution_count": 25,
     "metadata": {},
     "output_type": "execute_result"
    }
   ],
   "source": [
    "query = \"What is the range of correlation coefficient?\"\n",
    "index.query(query) "
   ]
  },
  {
   "cell_type": "code",
   "execution_count": 26,
   "id": "e590e3ba",
   "metadata": {},
   "outputs": [
    {
     "data": {
      "text/plain": [
       "' Pearson Correlation Coefficients is a measure of the association between two variables measured on a continuous scale. It can provide evidence that two variables are related to each other, or that they are not, but does not, in and of itself, demonstrate a causal association between two variables.'"
      ]
     },
     "execution_count": 26,
     "metadata": {},
     "output_type": "execute_result"
    }
   ],
   "source": [
    "query = \"What is Pearson Correlation Coefficients?\"\n",
    "index.query(query) "
   ]
  },
  {
   "cell_type": "code",
   "execution_count": 28,
   "id": "cc1a9b81",
   "metadata": {},
   "outputs": [
    {
     "data": {
      "text/plain": [
       "' The Chi-square test of independence is a nonparametric test used to determine whether cases in a sample fall into categories in proportions equal to what one would expect by chance. For example, a researcher may want to know whether boys or girls in a high school perform better on a standardized math test. This test can be used to determine whether the division of boys and girls is about what you would expect independent of grade level.'"
      ]
     },
     "execution_count": 28,
     "metadata": {},
     "output_type": "execute_result"
    }
   ],
   "source": [
    "query = \"Explain Chi-square test with example\"\n",
    "index.query(query) "
   ]
  }
 ],
 "metadata": {
  "kernelspec": {
   "display_name": "Python 3 (ipykernel)",
   "language": "python",
   "name": "python3"
  },
  "language_info": {
   "codemirror_mode": {
    "name": "ipython",
    "version": 3
   },
   "file_extension": ".py",
   "mimetype": "text/x-python",
   "name": "python",
   "nbconvert_exporter": "python",
   "pygments_lexer": "ipython3",
   "version": "3.9.12"
  }
 },
 "nbformat": 4,
 "nbformat_minor": 5
}
